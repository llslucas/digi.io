{
 "cells": [
  {
   "cell_type": "markdown",
   "id": "a573e40b",
   "metadata": {},
   "source": [
    "### Bibliotecas"
   ]
  },
  {
   "cell_type": "code",
   "execution_count": null,
   "id": "7146b7c0",
   "metadata": {},
   "outputs": [],
   "source": [
    "import pandas as pd\n",
    "from unidecode import unidecode"
   ]
  },
  {
   "cell_type": "markdown",
   "id": "75ef12a3",
   "metadata": {},
   "source": [
    "### Abertura do CSV"
   ]
  },
  {
   "cell_type": "code",
   "execution_count": null,
   "id": "b00fdb93",
   "metadata": {},
   "outputs": [],
   "source": [
    "raw_df = pd.read_csv('data')\n",
    "df = raw_df.copy()\n",
    "df.head()"
   ]
  },
  {
   "cell_type": "markdown",
   "id": "1445d844",
   "metadata": {},
   "source": [
    "### Ordenação por frequência"
   ]
  },
  {
   "cell_type": "code",
   "execution_count": null,
   "id": "8adbef36",
   "metadata": {},
   "outputs": [],
   "source": [
    "df = df.sort_values(by='tf', ascending=False)\n",
    "df.head()"
   ]
  },
  {
   "cell_type": "markdown",
   "id": "49439a09",
   "metadata": {},
   "source": [
    "### Filtro das 1000 palavras mais frequentes"
   ]
  },
  {
   "cell_type": "code",
   "execution_count": null,
   "id": "0b447633",
   "metadata": {},
   "outputs": [],
   "source": [
    "df = df.head(1000)\n",
    "df"
   ]
  },
  {
   "cell_type": "markdown",
   "id": "556f2a41",
   "metadata": {},
   "source": [
    "### Remoção das palavras com acento ou números"
   ]
  },
  {
   "cell_type": "code",
   "execution_count": null,
   "id": "9e49ad5e",
   "metadata": {},
   "outputs": [],
   "source": [
    "df = df.dropna()\n",
    "df = df[df['palavra'].str.isalpha()]\n",
    "df = df[df['palavra'] == df['palavra'].apply(unidecode)]\n",
    "df['palavra'] = df['palavra'].str.lower()\n",
    "df.head()\n"
   ]
  },
  {
   "cell_type": "markdown",
   "id": "9c7b94ce",
   "metadata": {},
   "source": [
    "### Adição da coluna length"
   ]
  },
  {
   "cell_type": "code",
   "execution_count": null,
   "id": "b929bab8",
   "metadata": {},
   "outputs": [],
   "source": [
    "df['length'] = df['palavra'].apply(len)\n",
    "df.head()"
   ]
  },
  {
   "cell_type": "markdown",
   "id": "24d1826e",
   "metadata": {},
   "source": [
    "### Ordenação por length"
   ]
  },
  {
   "cell_type": "code",
   "execution_count": null,
   "id": "a7c9c6a2",
   "metadata": {},
   "outputs": [],
   "source": [
    "df = df.sort_values(by='length', ascending=True)\n",
    "df.head()"
   ]
  },
  {
   "cell_type": "markdown",
   "id": "aba52e18",
   "metadata": {},
   "source": [
    "### Exportação apra tabela lua"
   ]
  },
  {
   "cell_type": "code",
   "execution_count": null,
   "id": "85450790",
   "metadata": {},
   "outputs": [],
   "source": [
    "with open('words.lua', 'w') as lua_file:\n",
    "  lua_file.write('local words = {\\n')\n",
    "  for _, row in df.iterrows():\n",
    "    lua_file.write(f\"    {{word = '{row['palavra']}', length = {row['length']}}},\\n\")\n",
    "  lua_file.write('}\\n')\n",
    "  lua_file.write('return words\\n')"
   ]
  }
 ],
 "metadata": {
  "kernelspec": {
   "display_name": "Python 3",
   "language": "python",
   "name": "python3"
  },
  "language_info": {
   "codemirror_mode": {
    "name": "ipython",
    "version": 3
   },
   "file_extension": ".py",
   "mimetype": "text/x-python",
   "name": "python",
   "nbconvert_exporter": "python",
   "pygments_lexer": "ipython3",
   "version": "3.12.6"
  }
 },
 "nbformat": 4,
 "nbformat_minor": 5
}
