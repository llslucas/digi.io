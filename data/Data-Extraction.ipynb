{
 "cells": [
  {
   "cell_type": "markdown",
   "id": "a573e40b",
   "metadata": {},
   "source": [
    "### Bibliotecas"
   ]
  },
  {
   "cell_type": "code",
   "execution_count": 1,
   "id": "7146b7c0",
   "metadata": {},
   "outputs": [],
   "source": [
    "import pandas as pd\n",
    "from unidecode import unidecode"
   ]
  },
  {
   "cell_type": "markdown",
   "id": "75ef12a3",
   "metadata": {},
   "source": [
    "### Abertura do CSV"
   ]
  },
  {
   "cell_type": "code",
   "execution_count": 13,
   "id": "b00fdb93",
   "metadata": {},
   "outputs": [
    {
     "data": {
      "application/vnd.microsoft.datawrangler.viewer.v0+json": {
       "columns": [
        {
         "name": "index",
         "rawType": "int64",
         "type": "integer"
        },
        {
         "name": "palavra",
         "rawType": "object",
         "type": "string"
        },
        {
         "name": "tf",
         "rawType": "int64",
         "type": "integer"
        },
        {
         "name": "dicts",
         "rawType": "float64",
         "type": "float"
        },
        {
         "name": "corpus",
         "rawType": "float64",
         "type": "float"
        },
        {
         "name": "title",
         "rawType": "float64",
         "type": "float"
        },
        {
         "name": "dmap",
         "rawType": "object",
         "type": "string"
        }
       ],
       "conversionMethod": "pd.DataFrame",
       "ref": "17992250-af82-4b3d-ac74-03bd7b814dd4",
       "rows": [
        [
         "0",
         "aa",
         "418667",
         "0.9999",
         "1.0",
         "0.0155",
         "cdhjloqrs"
        ],
        [
         "1",
         "aabora",
         "17",
         "0.9999",
         "0.0",
         "0.0",
         "cdfghijkq"
        ],
        [
         "2",
         "aaboras",
         "0",
         "0.01",
         "0.0",
         "0.0",
         "cfj"
        ],
        [
         "3",
         "aac",
         "62309",
         "0.9089",
         "0.0002",
         "0.0",
         "cdghjk"
        ],
        [
         "4",
         "aacima",
         "72",
         "0.001",
         "0.0",
         "0.0",
         "lq"
        ]
       ],
       "shape": {
        "columns": 6,
        "rows": 5
       }
      },
      "text/html": [
       "<div>\n",
       "<style scoped>\n",
       "    .dataframe tbody tr th:only-of-type {\n",
       "        vertical-align: middle;\n",
       "    }\n",
       "\n",
       "    .dataframe tbody tr th {\n",
       "        vertical-align: top;\n",
       "    }\n",
       "\n",
       "    .dataframe thead th {\n",
       "        text-align: right;\n",
       "    }\n",
       "</style>\n",
       "<table border=\"1\" class=\"dataframe\">\n",
       "  <thead>\n",
       "    <tr style=\"text-align: right;\">\n",
       "      <th></th>\n",
       "      <th>palavra</th>\n",
       "      <th>tf</th>\n",
       "      <th>dicts</th>\n",
       "      <th>corpus</th>\n",
       "      <th>title</th>\n",
       "      <th>dmap</th>\n",
       "    </tr>\n",
       "  </thead>\n",
       "  <tbody>\n",
       "    <tr>\n",
       "      <th>0</th>\n",
       "      <td>aa</td>\n",
       "      <td>418667</td>\n",
       "      <td>0.9999</td>\n",
       "      <td>1.0000</td>\n",
       "      <td>0.0155</td>\n",
       "      <td>cdhjloqrs</td>\n",
       "    </tr>\n",
       "    <tr>\n",
       "      <th>1</th>\n",
       "      <td>aabora</td>\n",
       "      <td>17</td>\n",
       "      <td>0.9999</td>\n",
       "      <td>0.0000</td>\n",
       "      <td>0.0000</td>\n",
       "      <td>cdfghijkq</td>\n",
       "    </tr>\n",
       "    <tr>\n",
       "      <th>2</th>\n",
       "      <td>aaboras</td>\n",
       "      <td>0</td>\n",
       "      <td>0.0100</td>\n",
       "      <td>0.0000</td>\n",
       "      <td>0.0000</td>\n",
       "      <td>cfj</td>\n",
       "    </tr>\n",
       "    <tr>\n",
       "      <th>3</th>\n",
       "      <td>aac</td>\n",
       "      <td>62309</td>\n",
       "      <td>0.9089</td>\n",
       "      <td>0.0002</td>\n",
       "      <td>0.0000</td>\n",
       "      <td>cdghjk</td>\n",
       "    </tr>\n",
       "    <tr>\n",
       "      <th>4</th>\n",
       "      <td>aacima</td>\n",
       "      <td>72</td>\n",
       "      <td>0.0010</td>\n",
       "      <td>0.0000</td>\n",
       "      <td>0.0000</td>\n",
       "      <td>lq</td>\n",
       "    </tr>\n",
       "  </tbody>\n",
       "</table>\n",
       "</div>"
      ],
      "text/plain": [
       "   palavra      tf   dicts  corpus   title       dmap\n",
       "0       aa  418667  0.9999  1.0000  0.0155  cdhjloqrs\n",
       "1   aabora      17  0.9999  0.0000  0.0000  cdfghijkq\n",
       "2  aaboras       0  0.0100  0.0000  0.0000        cfj\n",
       "3      aac   62309  0.9089  0.0002  0.0000     cdghjk\n",
       "4   aacima      72  0.0010  0.0000  0.0000         lq"
      ]
     },
     "execution_count": 13,
     "metadata": {},
     "output_type": "execute_result"
    }
   ],
   "source": [
    "raw_df = pd.read_csv('data')\n",
    "df = raw_df.copy()\n",
    "df.head()"
   ]
  },
  {
   "cell_type": "markdown",
   "id": "1445d844",
   "metadata": {},
   "source": [
    "### Ordenação por frequência"
   ]
  },
  {
   "cell_type": "code",
   "execution_count": 3,
   "id": "8adbef36",
   "metadata": {},
   "outputs": [
    {
     "data": {
      "application/vnd.microsoft.datawrangler.viewer.v0+json": {
       "columns": [
        {
         "name": "index",
         "rawType": "int64",
         "type": "integer"
        },
        {
         "name": "palavra",
         "rawType": "object",
         "type": "string"
        },
        {
         "name": "tf",
         "rawType": "int64",
         "type": "integer"
        },
        {
         "name": "dicts",
         "rawType": "float64",
         "type": "float"
        },
        {
         "name": "corpus",
         "rawType": "float64",
         "type": "float"
        },
        {
         "name": "title",
         "rawType": "float64",
         "type": "float"
        },
        {
         "name": "dmap",
         "rawType": "object",
         "type": "string"
        }
       ],
       "conversionMethod": "pd.DataFrame",
       "ref": "2f16c104-860d-4056-925e-bd8174d76d7e",
       "rows": [
        [
         "720864",
         "de",
         "2249801797",
         "1.0",
         "1.0",
         "0.2008",
         "abcdghijklmopqst"
        ],
        [
         "2105974",
         "que",
         "986271766",
         "1.0",
         "1.0",
         "0.2004",
         "abcdfghijklmnopqst"
        ],
        [
         "995709",
         "do",
         "678930810",
         "1.0",
         "1.0",
         "0.2103",
         "abcdghijklmnopqrst"
        ],
        [
         "1025648",
         "em",
         "617333684",
         "1.0",
         "0.9997",
         "0.3331",
         "abcdghijklmnopqrst"
        ],
        [
         "717689",
         "da",
         "572609964",
         "1.0",
         "1.0",
         "0.1684",
         "bcdghijklmopt"
        ]
       ],
       "shape": {
        "columns": 6,
        "rows": 5
       }
      },
      "text/html": [
       "<div>\n",
       "<style scoped>\n",
       "    .dataframe tbody tr th:only-of-type {\n",
       "        vertical-align: middle;\n",
       "    }\n",
       "\n",
       "    .dataframe tbody tr th {\n",
       "        vertical-align: top;\n",
       "    }\n",
       "\n",
       "    .dataframe thead th {\n",
       "        text-align: right;\n",
       "    }\n",
       "</style>\n",
       "<table border=\"1\" class=\"dataframe\">\n",
       "  <thead>\n",
       "    <tr style=\"text-align: right;\">\n",
       "      <th></th>\n",
       "      <th>palavra</th>\n",
       "      <th>tf</th>\n",
       "      <th>dicts</th>\n",
       "      <th>corpus</th>\n",
       "      <th>title</th>\n",
       "      <th>dmap</th>\n",
       "    </tr>\n",
       "  </thead>\n",
       "  <tbody>\n",
       "    <tr>\n",
       "      <th>720864</th>\n",
       "      <td>de</td>\n",
       "      <td>2249801797</td>\n",
       "      <td>1.0</td>\n",
       "      <td>1.0000</td>\n",
       "      <td>0.2008</td>\n",
       "      <td>abcdghijklmopqst</td>\n",
       "    </tr>\n",
       "    <tr>\n",
       "      <th>2105974</th>\n",
       "      <td>que</td>\n",
       "      <td>986271766</td>\n",
       "      <td>1.0</td>\n",
       "      <td>1.0000</td>\n",
       "      <td>0.2004</td>\n",
       "      <td>abcdfghijklmnopqst</td>\n",
       "    </tr>\n",
       "    <tr>\n",
       "      <th>995709</th>\n",
       "      <td>do</td>\n",
       "      <td>678930810</td>\n",
       "      <td>1.0</td>\n",
       "      <td>1.0000</td>\n",
       "      <td>0.2103</td>\n",
       "      <td>abcdghijklmnopqrst</td>\n",
       "    </tr>\n",
       "    <tr>\n",
       "      <th>1025648</th>\n",
       "      <td>em</td>\n",
       "      <td>617333684</td>\n",
       "      <td>1.0</td>\n",
       "      <td>0.9997</td>\n",
       "      <td>0.3331</td>\n",
       "      <td>abcdghijklmnopqrst</td>\n",
       "    </tr>\n",
       "    <tr>\n",
       "      <th>717689</th>\n",
       "      <td>da</td>\n",
       "      <td>572609964</td>\n",
       "      <td>1.0</td>\n",
       "      <td>1.0000</td>\n",
       "      <td>0.1684</td>\n",
       "      <td>bcdghijklmopt</td>\n",
       "    </tr>\n",
       "  </tbody>\n",
       "</table>\n",
       "</div>"
      ],
      "text/plain": [
       "        palavra          tf  dicts  corpus   title                dmap\n",
       "720864       de  2249801797    1.0  1.0000  0.2008    abcdghijklmopqst\n",
       "2105974     que   986271766    1.0  1.0000  0.2004  abcdfghijklmnopqst\n",
       "995709       do   678930810    1.0  1.0000  0.2103  abcdghijklmnopqrst\n",
       "1025648      em   617333684    1.0  0.9997  0.3331  abcdghijklmnopqrst\n",
       "717689       da   572609964    1.0  1.0000  0.1684       bcdghijklmopt"
      ]
     },
     "execution_count": 3,
     "metadata": {},
     "output_type": "execute_result"
    }
   ],
   "source": [
    "df = df.sort_values(by='tf', ascending=False)\n",
    "df.head()"
   ]
  },
  {
   "cell_type": "markdown",
   "id": "49439a09",
   "metadata": {},
   "source": [
    "### Filtro das 1000 palavras mais frequentes"
   ]
  },
  {
   "cell_type": "code",
   "execution_count": 8,
   "id": "0b447633",
   "metadata": {},
   "outputs": [
    {
     "data": {
      "application/vnd.microsoft.datawrangler.viewer.v0+json": {
       "columns": [
        {
         "name": "index",
         "rawType": "int64",
         "type": "integer"
        },
        {
         "name": "palavra",
         "rawType": "object",
         "type": "string"
        },
        {
         "name": "tf",
         "rawType": "int64",
         "type": "integer"
        },
        {
         "name": "dicts",
         "rawType": "float64",
         "type": "float"
        },
        {
         "name": "corpus",
         "rawType": "float64",
         "type": "float"
        },
        {
         "name": "title",
         "rawType": "float64",
         "type": "float"
        },
        {
         "name": "dmap",
         "rawType": "object",
         "type": "string"
        }
       ],
       "conversionMethod": "pd.DataFrame",
       "ref": "859562f7-6ee2-49a8-9057-4b0005e552ee",
       "rows": [
        [
         "720864",
         "de",
         "2249801797",
         "1.0",
         "1.0",
         "0.2008",
         "abcdghijklmopqst"
        ],
        [
         "2105974",
         "que",
         "986271766",
         "1.0",
         "1.0",
         "0.2004",
         "abcdfghijklmnopqst"
        ],
        [
         "995709",
         "do",
         "678930810",
         "1.0",
         "1.0",
         "0.2103",
         "abcdghijklmnopqrst"
        ],
        [
         "1025648",
         "em",
         "617333684",
         "1.0",
         "0.9997",
         "0.3331",
         "abcdghijklmnopqrst"
        ],
        [
         "717689",
         "da",
         "572609964",
         "1.0",
         "1.0",
         "0.1684",
         "bcdghijklmopt"
        ],
        [
         "623417",
         "com",
         "462798282",
         "1.0",
         "0.5732",
         "0.0041",
         "abcdfghijklmopqrst"
        ],
        [
         "2550649",
         "um",
         "417591239",
         "1.0",
         "0.9998",
         "0.3326",
         "abcdghijklmopqrst"
        ],
        [
         "1870258",
         "no",
         "359875683",
         "1.0",
         "1.0",
         "0.2352",
         "abcdghijklmnopqrst"
        ],
        [
         "2317132",
         "se",
         "342500135",
         "1.0",
         "1.0",
         "0.2945",
         "abcdghijklmnopqst"
        ],
        [
         "2550650",
         "uma",
         "336384235",
         "1.0",
         "0.9999",
         "0.257",
         "bcdfghijlmoprst"
        ],
        [
         "1911746",
         "os",
         "336200256",
         "1.0",
         "1.0",
         "0.3314",
         "bcdghijklmopt"
        ],
        [
         "317882",
         "as",
         "306854035",
         "1.0",
         "1.0",
         "0.1815",
         "abcdghijklmopqrst"
        ],
        [
         "1846809",
         "na",
         "292790352",
         "1.0",
         "1.0",
         "0.2744",
         "bcdghijklmopqst"
        ],
        [
         "2041906",
         "por",
         "282745938",
         "1.0",
         "1.0",
         "0.201",
         "abcdfghijklmnopqrst"
        ],
        [
         "1726559",
         "mais",
         "233925526",
         "1.0",
         "0.9997",
         "0.002",
         "abcdfghijklmopqrst"
        ],
        [
         "1001220",
         "dos",
         "186675335",
         "1.0",
         "1.0",
         "0.1825",
         "bcdfghijklmopr"
        ],
        [
         "627216",
         "como",
         "173976424",
         "1.0",
         "0.4268",
         "0.0068",
         "abcdfhijklmnopqrst"
        ],
        [
         "250822",
         "ao",
         "160692754",
         "1.0",
         "0.9999",
         "0.2028",
         "abcdghijklmnopst"
        ],
        [
         "1915948",
         "ou",
         "159571855",
         "1.0",
         "0.9989",
         "0.3331",
         "abcdghijklmopst"
        ],
        [
         "1753855",
         "mas",
         "140075713",
         "1.0",
         "1.0",
         "0.2006",
         "abcdfghijklmopqrst"
        ],
        [
         "1334420",
         "eu",
         "129990465",
         "1.0",
         "0.9994",
         "0.3506",
         "abcdghijklmoqs"
        ],
        [
         "720144",
         "das",
         "121238806",
         "1.0",
         "1.0",
         "0.2538",
         "bcdfghijmp"
        ],
        [
         "2333796",
         "ser",
         "115924737",
         "1.0",
         "1.0",
         "0.333",
         "abcdfghijklmnopqrst"
        ],
        [
         "2382908",
         "sua",
         "115117137",
         "1.0",
         "0.9997",
         "0.2048",
         "abcdfhijklmopqs"
        ],
        [
         "1296923",
         "esta",
         "109358066",
         "1.0",
         "1.0",
         "0.1682",
         "bcdfhijlmpqs"
        ],
        [
         "1404747",
         "foi",
         "102759583",
         "1.0",
         "0.4268",
         "0.004",
         "bcdfhijmpq"
        ],
        [
         "2340191",
         "seu",
         "102453664",
         "1.0",
         "0.4268",
         "0.002",
         "abcdfghijklmopqrs"
        ],
        [
         "2450109",
         "tem",
         "98087508",
         "1.0",
         "1.0",
         "0.001",
         "bcdfghijmpq"
        ],
        [
         "1834543",
         "muito",
         "92540640",
         "1.0",
         "0.4268",
         "0.0014",
         "abcdfghijklmnopqrst"
        ],
        [
         "1762642",
         "me",
         "85639806",
         "1.0",
         "1.0",
         "0.2057",
         "bcdghijklmoqs"
        ],
        [
         "2358943",
         "sobre",
         "79787037",
         "1.0",
         "0.5732",
         "0.0027",
         "abcdfghijkmopqs"
        ],
        [
         "2322211",
         "sem",
         "75214917",
         "1.0",
         "0.9997",
         "0.352",
         "abcdfghijklmnoprst"
        ],
        [
         "1969452",
         "pelo",
         "73097596",
         "1.0",
         "1.0",
         "0.0026",
         "abcdfghijklmnopqrst"
        ],
        [
         "1967964",
         "pela",
         "72363977",
         "1.0",
         "1.0",
         "0.1452",
         "abcdfghijklmopqrst"
        ],
        [
         "1641973",
         "ja",
         "71453558",
         "1.0",
         "1.0",
         "0.2031",
         "abcdghijklmopqrst"
        ],
        [
         "2104213",
         "quando",
         "68503145",
         "1.0",
         "0.9997",
         "0.2477",
         "abcdfghijklmopqrst"
        ],
        [
         "2028583",
         "pode",
         "66941460",
         "1.0",
         "1.0",
         "0.1696",
         "bcdfghijmp"
        ],
        [
         "966143",
         "dia",
         "65994277",
         "1.0",
         "0.9999",
         "0.2016",
         "abcdfghijklmopqrst"
        ],
        [
         "1018738",
         "ele",
         "64293506",
         "1.0",
         "0.9997",
         "0.0049",
         "abcdfghijkmnopqs"
        ],
        [
         "2476118",
         "todos",
         "64199139",
         "1.0",
         "0.9997",
         "0.2499",
         "bcdfghijmprs"
        ],
        [
         "423359",
         "bem",
         "61174797",
         "1.0",
         "0.4268",
         "0.0021",
         "abcdfghijklmnopqrst"
        ],
        [
         "1778839",
         "mesmo",
         "60873683",
         "1.0",
         "0.4268",
         "0.0014",
         "abcdfghijklmnopqrst"
        ],
        [
         "1639514",
         "isso",
         "58747239",
         "1.0",
         "0.4268",
         "0.0041",
         "abcdfghijklmopqs"
        ],
        [
         "1876713",
         "novo",
         "56201980",
         "1.0",
         "0.9997",
         "0.334",
         "abcdfghijklmnoqrst"
        ],
        [
         "1960752",
         "paulo",
         "55607301",
         "1.0",
         "0.9788",
         "0.2731",
         "abcdfghijklmpq"
        ],
        [
         "1171469",
         "entre",
         "54884278",
         "1.0",
         "0.9998",
         "0.25",
         "abcdfghijklmopqrs"
        ],
        [
         "233916",
         "anos",
         "54168744",
         "1.0",
         "0.4268",
         "0.002",
         "bcdfghijmp"
        ],
        [
         "1375831",
         "fazer",
         "53828278",
         "1.0",
         "0.9994",
         "0.2487",
         "abcdfghijklmopqrst"
        ],
        [
         "140171",
         "ainda",
         "51518701",
         "1.0",
         "0.5732",
         "0.0014",
         "abcdfghijklmopqrst"
        ],
        [
         "2536968",
         "tudo",
         "50750864",
         "1.0",
         "0.9989",
         "0.3335",
         "abcdfghijklmopqst"
        ]
       ],
       "shape": {
        "columns": 6,
        "rows": 816
       }
      },
      "text/html": [
       "<div>\n",
       "<style scoped>\n",
       "    .dataframe tbody tr th:only-of-type {\n",
       "        vertical-align: middle;\n",
       "    }\n",
       "\n",
       "    .dataframe tbody tr th {\n",
       "        vertical-align: top;\n",
       "    }\n",
       "\n",
       "    .dataframe thead th {\n",
       "        text-align: right;\n",
       "    }\n",
       "</style>\n",
       "<table border=\"1\" class=\"dataframe\">\n",
       "  <thead>\n",
       "    <tr style=\"text-align: right;\">\n",
       "      <th></th>\n",
       "      <th>palavra</th>\n",
       "      <th>tf</th>\n",
       "      <th>dicts</th>\n",
       "      <th>corpus</th>\n",
       "      <th>title</th>\n",
       "      <th>dmap</th>\n",
       "    </tr>\n",
       "  </thead>\n",
       "  <tbody>\n",
       "    <tr>\n",
       "      <th>720864</th>\n",
       "      <td>de</td>\n",
       "      <td>2249801797</td>\n",
       "      <td>1.0000</td>\n",
       "      <td>1.0000</td>\n",
       "      <td>0.2008</td>\n",
       "      <td>abcdghijklmopqst</td>\n",
       "    </tr>\n",
       "    <tr>\n",
       "      <th>2105974</th>\n",
       "      <td>que</td>\n",
       "      <td>986271766</td>\n",
       "      <td>1.0000</td>\n",
       "      <td>1.0000</td>\n",
       "      <td>0.2004</td>\n",
       "      <td>abcdfghijklmnopqst</td>\n",
       "    </tr>\n",
       "    <tr>\n",
       "      <th>995709</th>\n",
       "      <td>do</td>\n",
       "      <td>678930810</td>\n",
       "      <td>1.0000</td>\n",
       "      <td>1.0000</td>\n",
       "      <td>0.2103</td>\n",
       "      <td>abcdghijklmnopqrst</td>\n",
       "    </tr>\n",
       "    <tr>\n",
       "      <th>1025648</th>\n",
       "      <td>em</td>\n",
       "      <td>617333684</td>\n",
       "      <td>1.0000</td>\n",
       "      <td>0.9997</td>\n",
       "      <td>0.3331</td>\n",
       "      <td>abcdghijklmnopqrst</td>\n",
       "    </tr>\n",
       "    <tr>\n",
       "      <th>717689</th>\n",
       "      <td>da</td>\n",
       "      <td>572609964</td>\n",
       "      <td>1.0000</td>\n",
       "      <td>1.0000</td>\n",
       "      <td>0.1684</td>\n",
       "      <td>bcdghijklmopt</td>\n",
       "    </tr>\n",
       "    <tr>\n",
       "      <th>...</th>\n",
       "      <td>...</td>\n",
       "      <td>...</td>\n",
       "      <td>...</td>\n",
       "      <td>...</td>\n",
       "      <td>...</td>\n",
       "      <td>...</td>\n",
       "    </tr>\n",
       "    <tr>\n",
       "      <th>2173805</th>\n",
       "      <td>redes</td>\n",
       "      <td>4294427</td>\n",
       "      <td>0.9999</td>\n",
       "      <td>0.8874</td>\n",
       "      <td>0.0015</td>\n",
       "      <td>bcdfghijp</td>\n",
       "    </tr>\n",
       "    <tr>\n",
       "      <th>1890368</th>\n",
       "      <td>ofertas</td>\n",
       "      <td>4292032</td>\n",
       "      <td>0.9900</td>\n",
       "      <td>0.4268</td>\n",
       "      <td>0.3331</td>\n",
       "      <td>bcdfhij</td>\n",
       "    </tr>\n",
       "    <tr>\n",
       "      <th>2200806</th>\n",
       "      <td>rei</td>\n",
       "      <td>4278026</td>\n",
       "      <td>1.0000</td>\n",
       "      <td>0.9997</td>\n",
       "      <td>0.3340</td>\n",
       "      <td>abcdfghijklmnopqrst</td>\n",
       "    </tr>\n",
       "    <tr>\n",
       "      <th>178897</th>\n",
       "      <td>altura</td>\n",
       "      <td>4275602</td>\n",
       "      <td>1.0000</td>\n",
       "      <td>0.4268</td>\n",
       "      <td>0.0000</td>\n",
       "      <td>abcdfghijklmnoqrst</td>\n",
       "    </tr>\n",
       "    <tr>\n",
       "      <th>2075536</th>\n",
       "      <td>programas</td>\n",
       "      <td>4257819</td>\n",
       "      <td>0.9999</td>\n",
       "      <td>0.4268</td>\n",
       "      <td>0.0000</td>\n",
       "      <td>bcdfghijm</td>\n",
       "    </tr>\n",
       "  </tbody>\n",
       "</table>\n",
       "<p>816 rows × 6 columns</p>\n",
       "</div>"
      ],
      "text/plain": [
       "           palavra          tf   dicts  corpus   title                 dmap\n",
       "720864          de  2249801797  1.0000  1.0000  0.2008     abcdghijklmopqst\n",
       "2105974        que   986271766  1.0000  1.0000  0.2004   abcdfghijklmnopqst\n",
       "995709          do   678930810  1.0000  1.0000  0.2103   abcdghijklmnopqrst\n",
       "1025648         em   617333684  1.0000  0.9997  0.3331   abcdghijklmnopqrst\n",
       "717689          da   572609964  1.0000  1.0000  0.1684        bcdghijklmopt\n",
       "...            ...         ...     ...     ...     ...                  ...\n",
       "2173805      redes     4294427  0.9999  0.8874  0.0015            bcdfghijp\n",
       "1890368    ofertas     4292032  0.9900  0.4268  0.3331              bcdfhij\n",
       "2200806        rei     4278026  1.0000  0.9997  0.3340  abcdfghijklmnopqrst\n",
       "178897      altura     4275602  1.0000  0.4268  0.0000   abcdfghijklmnoqrst\n",
       "2075536  programas     4257819  0.9999  0.4268  0.0000            bcdfghijm\n",
       "\n",
       "[816 rows x 6 columns]"
      ]
     },
     "execution_count": 8,
     "metadata": {},
     "output_type": "execute_result"
    }
   ],
   "source": [
    "df = df.head(1000)\n",
    "df"
   ]
  },
  {
   "cell_type": "markdown",
   "id": "556f2a41",
   "metadata": {},
   "source": [
    "### Remoção das palavras com acento ou números"
   ]
  },
  {
   "cell_type": "code",
   "execution_count": 7,
   "id": "9e49ad5e",
   "metadata": {},
   "outputs": [
    {
     "data": {
      "application/vnd.microsoft.datawrangler.viewer.v0+json": {
       "columns": [
        {
         "name": "index",
         "rawType": "int64",
         "type": "integer"
        },
        {
         "name": "palavra",
         "rawType": "object",
         "type": "string"
        },
        {
         "name": "tf",
         "rawType": "int64",
         "type": "integer"
        },
        {
         "name": "dicts",
         "rawType": "float64",
         "type": "float"
        },
        {
         "name": "corpus",
         "rawType": "float64",
         "type": "float"
        },
        {
         "name": "title",
         "rawType": "float64",
         "type": "float"
        },
        {
         "name": "dmap",
         "rawType": "object",
         "type": "string"
        }
       ],
       "conversionMethod": "pd.DataFrame",
       "ref": "76767234-70a3-4d45-9183-ed40186bd189",
       "rows": [
        [
         "720864",
         "de",
         "2249801797",
         "1.0",
         "1.0",
         "0.2008",
         "abcdghijklmopqst"
        ],
        [
         "2105974",
         "que",
         "986271766",
         "1.0",
         "1.0",
         "0.2004",
         "abcdfghijklmnopqst"
        ],
        [
         "995709",
         "do",
         "678930810",
         "1.0",
         "1.0",
         "0.2103",
         "abcdghijklmnopqrst"
        ],
        [
         "1025648",
         "em",
         "617333684",
         "1.0",
         "0.9997",
         "0.3331",
         "abcdghijklmnopqrst"
        ],
        [
         "717689",
         "da",
         "572609964",
         "1.0",
         "1.0",
         "0.1684",
         "bcdghijklmopt"
        ]
       ],
       "shape": {
        "columns": 6,
        "rows": 5
       }
      },
      "text/html": [
       "<div>\n",
       "<style scoped>\n",
       "    .dataframe tbody tr th:only-of-type {\n",
       "        vertical-align: middle;\n",
       "    }\n",
       "\n",
       "    .dataframe tbody tr th {\n",
       "        vertical-align: top;\n",
       "    }\n",
       "\n",
       "    .dataframe thead th {\n",
       "        text-align: right;\n",
       "    }\n",
       "</style>\n",
       "<table border=\"1\" class=\"dataframe\">\n",
       "  <thead>\n",
       "    <tr style=\"text-align: right;\">\n",
       "      <th></th>\n",
       "      <th>palavra</th>\n",
       "      <th>tf</th>\n",
       "      <th>dicts</th>\n",
       "      <th>corpus</th>\n",
       "      <th>title</th>\n",
       "      <th>dmap</th>\n",
       "    </tr>\n",
       "  </thead>\n",
       "  <tbody>\n",
       "    <tr>\n",
       "      <th>720864</th>\n",
       "      <td>de</td>\n",
       "      <td>2249801797</td>\n",
       "      <td>1.0</td>\n",
       "      <td>1.0000</td>\n",
       "      <td>0.2008</td>\n",
       "      <td>abcdghijklmopqst</td>\n",
       "    </tr>\n",
       "    <tr>\n",
       "      <th>2105974</th>\n",
       "      <td>que</td>\n",
       "      <td>986271766</td>\n",
       "      <td>1.0</td>\n",
       "      <td>1.0000</td>\n",
       "      <td>0.2004</td>\n",
       "      <td>abcdfghijklmnopqst</td>\n",
       "    </tr>\n",
       "    <tr>\n",
       "      <th>995709</th>\n",
       "      <td>do</td>\n",
       "      <td>678930810</td>\n",
       "      <td>1.0</td>\n",
       "      <td>1.0000</td>\n",
       "      <td>0.2103</td>\n",
       "      <td>abcdghijklmnopqrst</td>\n",
       "    </tr>\n",
       "    <tr>\n",
       "      <th>1025648</th>\n",
       "      <td>em</td>\n",
       "      <td>617333684</td>\n",
       "      <td>1.0</td>\n",
       "      <td>0.9997</td>\n",
       "      <td>0.3331</td>\n",
       "      <td>abcdghijklmnopqrst</td>\n",
       "    </tr>\n",
       "    <tr>\n",
       "      <th>717689</th>\n",
       "      <td>da</td>\n",
       "      <td>572609964</td>\n",
       "      <td>1.0</td>\n",
       "      <td>1.0000</td>\n",
       "      <td>0.1684</td>\n",
       "      <td>bcdghijklmopt</td>\n",
       "    </tr>\n",
       "  </tbody>\n",
       "</table>\n",
       "</div>"
      ],
      "text/plain": [
       "        palavra          tf  dicts  corpus   title                dmap\n",
       "720864       de  2249801797    1.0  1.0000  0.2008    abcdghijklmopqst\n",
       "2105974     que   986271766    1.0  1.0000  0.2004  abcdfghijklmnopqst\n",
       "995709       do   678930810    1.0  1.0000  0.2103  abcdghijklmnopqrst\n",
       "1025648      em   617333684    1.0  0.9997  0.3331  abcdghijklmnopqrst\n",
       "717689       da   572609964    1.0  1.0000  0.1684       bcdghijklmopt"
      ]
     },
     "execution_count": 7,
     "metadata": {},
     "output_type": "execute_result"
    }
   ],
   "source": [
    "df = df.dropna()\n",
    "df = df[df['palavra'].str.isalpha()]\n",
    "df = df[df['palavra'] == df['palavra'].apply(unidecode)]\n",
    "df['palavra'] = df['palavra'].str.lower()\n",
    "df.head()\n"
   ]
  },
  {
   "cell_type": "markdown",
   "id": "9c7b94ce",
   "metadata": {},
   "source": [
    "### Adição da coluna length"
   ]
  },
  {
   "cell_type": "code",
   "execution_count": 10,
   "id": "b929bab8",
   "metadata": {},
   "outputs": [
    {
     "data": {
      "application/vnd.microsoft.datawrangler.viewer.v0+json": {
       "columns": [
        {
         "name": "index",
         "rawType": "int64",
         "type": "integer"
        },
        {
         "name": "palavra",
         "rawType": "object",
         "type": "string"
        },
        {
         "name": "tf",
         "rawType": "int64",
         "type": "integer"
        },
        {
         "name": "dicts",
         "rawType": "float64",
         "type": "float"
        },
        {
         "name": "corpus",
         "rawType": "float64",
         "type": "float"
        },
        {
         "name": "title",
         "rawType": "float64",
         "type": "float"
        },
        {
         "name": "dmap",
         "rawType": "object",
         "type": "string"
        },
        {
         "name": "length",
         "rawType": "int64",
         "type": "integer"
        }
       ],
       "conversionMethod": "pd.DataFrame",
       "ref": "5059c8b3-d1db-4ea6-b4af-b014dd3d057a",
       "rows": [
        [
         "720864",
         "de",
         "2249801797",
         "1.0",
         "1.0",
         "0.2008",
         "abcdghijklmopqst",
         "2"
        ],
        [
         "2105974",
         "que",
         "986271766",
         "1.0",
         "1.0",
         "0.2004",
         "abcdfghijklmnopqst",
         "3"
        ],
        [
         "995709",
         "do",
         "678930810",
         "1.0",
         "1.0",
         "0.2103",
         "abcdghijklmnopqrst",
         "2"
        ],
        [
         "1025648",
         "em",
         "617333684",
         "1.0",
         "0.9997",
         "0.3331",
         "abcdghijklmnopqrst",
         "2"
        ],
        [
         "717689",
         "da",
         "572609964",
         "1.0",
         "1.0",
         "0.1684",
         "bcdghijklmopt",
         "2"
        ]
       ],
       "shape": {
        "columns": 7,
        "rows": 5
       }
      },
      "text/html": [
       "<div>\n",
       "<style scoped>\n",
       "    .dataframe tbody tr th:only-of-type {\n",
       "        vertical-align: middle;\n",
       "    }\n",
       "\n",
       "    .dataframe tbody tr th {\n",
       "        vertical-align: top;\n",
       "    }\n",
       "\n",
       "    .dataframe thead th {\n",
       "        text-align: right;\n",
       "    }\n",
       "</style>\n",
       "<table border=\"1\" class=\"dataframe\">\n",
       "  <thead>\n",
       "    <tr style=\"text-align: right;\">\n",
       "      <th></th>\n",
       "      <th>palavra</th>\n",
       "      <th>tf</th>\n",
       "      <th>dicts</th>\n",
       "      <th>corpus</th>\n",
       "      <th>title</th>\n",
       "      <th>dmap</th>\n",
       "      <th>length</th>\n",
       "    </tr>\n",
       "  </thead>\n",
       "  <tbody>\n",
       "    <tr>\n",
       "      <th>720864</th>\n",
       "      <td>de</td>\n",
       "      <td>2249801797</td>\n",
       "      <td>1.0</td>\n",
       "      <td>1.0000</td>\n",
       "      <td>0.2008</td>\n",
       "      <td>abcdghijklmopqst</td>\n",
       "      <td>2</td>\n",
       "    </tr>\n",
       "    <tr>\n",
       "      <th>2105974</th>\n",
       "      <td>que</td>\n",
       "      <td>986271766</td>\n",
       "      <td>1.0</td>\n",
       "      <td>1.0000</td>\n",
       "      <td>0.2004</td>\n",
       "      <td>abcdfghijklmnopqst</td>\n",
       "      <td>3</td>\n",
       "    </tr>\n",
       "    <tr>\n",
       "      <th>995709</th>\n",
       "      <td>do</td>\n",
       "      <td>678930810</td>\n",
       "      <td>1.0</td>\n",
       "      <td>1.0000</td>\n",
       "      <td>0.2103</td>\n",
       "      <td>abcdghijklmnopqrst</td>\n",
       "      <td>2</td>\n",
       "    </tr>\n",
       "    <tr>\n",
       "      <th>1025648</th>\n",
       "      <td>em</td>\n",
       "      <td>617333684</td>\n",
       "      <td>1.0</td>\n",
       "      <td>0.9997</td>\n",
       "      <td>0.3331</td>\n",
       "      <td>abcdghijklmnopqrst</td>\n",
       "      <td>2</td>\n",
       "    </tr>\n",
       "    <tr>\n",
       "      <th>717689</th>\n",
       "      <td>da</td>\n",
       "      <td>572609964</td>\n",
       "      <td>1.0</td>\n",
       "      <td>1.0000</td>\n",
       "      <td>0.1684</td>\n",
       "      <td>bcdghijklmopt</td>\n",
       "      <td>2</td>\n",
       "    </tr>\n",
       "  </tbody>\n",
       "</table>\n",
       "</div>"
      ],
      "text/plain": [
       "        palavra          tf  dicts  corpus   title                dmap  length\n",
       "720864       de  2249801797    1.0  1.0000  0.2008    abcdghijklmopqst       2\n",
       "2105974     que   986271766    1.0  1.0000  0.2004  abcdfghijklmnopqst       3\n",
       "995709       do   678930810    1.0  1.0000  0.2103  abcdghijklmnopqrst       2\n",
       "1025648      em   617333684    1.0  0.9997  0.3331  abcdghijklmnopqrst       2\n",
       "717689       da   572609964    1.0  1.0000  0.1684       bcdghijklmopt       2"
      ]
     },
     "execution_count": 10,
     "metadata": {},
     "output_type": "execute_result"
    }
   ],
   "source": [
    "df['length'] = df['palavra'].apply(len)\n",
    "df.head()"
   ]
  },
  {
   "cell_type": "markdown",
   "id": "24d1826e",
   "metadata": {},
   "source": [
    "### Ordenação por length"
   ]
  },
  {
   "cell_type": "code",
   "execution_count": 11,
   "id": "a7c9c6a2",
   "metadata": {},
   "outputs": [
    {
     "data": {
      "application/vnd.microsoft.datawrangler.viewer.v0+json": {
       "columns": [
        {
         "name": "index",
         "rawType": "int64",
         "type": "integer"
        },
        {
         "name": "palavra",
         "rawType": "object",
         "type": "string"
        },
        {
         "name": "tf",
         "rawType": "int64",
         "type": "integer"
        },
        {
         "name": "dicts",
         "rawType": "float64",
         "type": "float"
        },
        {
         "name": "corpus",
         "rawType": "float64",
         "type": "float"
        },
        {
         "name": "title",
         "rawType": "float64",
         "type": "float"
        },
        {
         "name": "dmap",
         "rawType": "object",
         "type": "string"
        },
        {
         "name": "length",
         "rawType": "int64",
         "type": "integer"
        }
       ],
       "conversionMethod": "pd.DataFrame",
       "ref": "da38333a-391a-4b4c-b16b-8339a57ed156",
       "rows": [
        [
         "250822",
         "ao",
         "160692754",
         "1.0",
         "0.9999",
         "0.2028",
         "abcdghijklmnopst",
         "2"
        ],
        [
         "1915948",
         "ou",
         "159571855",
         "1.0",
         "0.9989",
         "0.3331",
         "abcdghijklmopst",
         "2"
        ],
        [
         "1334420",
         "eu",
         "129990465",
         "1.0",
         "0.9994",
         "0.3506",
         "abcdghijklmoqs",
         "2"
        ],
        [
         "2583982",
         "vi",
         "7575803",
         "0.999",
         "0.9994",
         "0.0032",
         "bcdghijm",
         "2"
        ],
        [
         "720864",
         "de",
         "2249801797",
         "1.0",
         "1.0",
         "0.2008",
         "abcdghijklmopqst",
         "2"
        ]
       ],
       "shape": {
        "columns": 7,
        "rows": 5
       }
      },
      "text/html": [
       "<div>\n",
       "<style scoped>\n",
       "    .dataframe tbody tr th:only-of-type {\n",
       "        vertical-align: middle;\n",
       "    }\n",
       "\n",
       "    .dataframe tbody tr th {\n",
       "        vertical-align: top;\n",
       "    }\n",
       "\n",
       "    .dataframe thead th {\n",
       "        text-align: right;\n",
       "    }\n",
       "</style>\n",
       "<table border=\"1\" class=\"dataframe\">\n",
       "  <thead>\n",
       "    <tr style=\"text-align: right;\">\n",
       "      <th></th>\n",
       "      <th>palavra</th>\n",
       "      <th>tf</th>\n",
       "      <th>dicts</th>\n",
       "      <th>corpus</th>\n",
       "      <th>title</th>\n",
       "      <th>dmap</th>\n",
       "      <th>length</th>\n",
       "    </tr>\n",
       "  </thead>\n",
       "  <tbody>\n",
       "    <tr>\n",
       "      <th>250822</th>\n",
       "      <td>ao</td>\n",
       "      <td>160692754</td>\n",
       "      <td>1.000</td>\n",
       "      <td>0.9999</td>\n",
       "      <td>0.2028</td>\n",
       "      <td>abcdghijklmnopst</td>\n",
       "      <td>2</td>\n",
       "    </tr>\n",
       "    <tr>\n",
       "      <th>1915948</th>\n",
       "      <td>ou</td>\n",
       "      <td>159571855</td>\n",
       "      <td>1.000</td>\n",
       "      <td>0.9989</td>\n",
       "      <td>0.3331</td>\n",
       "      <td>abcdghijklmopst</td>\n",
       "      <td>2</td>\n",
       "    </tr>\n",
       "    <tr>\n",
       "      <th>1334420</th>\n",
       "      <td>eu</td>\n",
       "      <td>129990465</td>\n",
       "      <td>1.000</td>\n",
       "      <td>0.9994</td>\n",
       "      <td>0.3506</td>\n",
       "      <td>abcdghijklmoqs</td>\n",
       "      <td>2</td>\n",
       "    </tr>\n",
       "    <tr>\n",
       "      <th>2583982</th>\n",
       "      <td>vi</td>\n",
       "      <td>7575803</td>\n",
       "      <td>0.999</td>\n",
       "      <td>0.9994</td>\n",
       "      <td>0.0032</td>\n",
       "      <td>bcdghijm</td>\n",
       "      <td>2</td>\n",
       "    </tr>\n",
       "    <tr>\n",
       "      <th>720864</th>\n",
       "      <td>de</td>\n",
       "      <td>2249801797</td>\n",
       "      <td>1.000</td>\n",
       "      <td>1.0000</td>\n",
       "      <td>0.2008</td>\n",
       "      <td>abcdghijklmopqst</td>\n",
       "      <td>2</td>\n",
       "    </tr>\n",
       "  </tbody>\n",
       "</table>\n",
       "</div>"
      ],
      "text/plain": [
       "        palavra          tf  dicts  corpus   title              dmap  length\n",
       "250822       ao   160692754  1.000  0.9999  0.2028  abcdghijklmnopst       2\n",
       "1915948      ou   159571855  1.000  0.9989  0.3331   abcdghijklmopst       2\n",
       "1334420      eu   129990465  1.000  0.9994  0.3506    abcdghijklmoqs       2\n",
       "2583982      vi     7575803  0.999  0.9994  0.0032          bcdghijm       2\n",
       "720864       de  2249801797  1.000  1.0000  0.2008  abcdghijklmopqst       2"
      ]
     },
     "execution_count": 11,
     "metadata": {},
     "output_type": "execute_result"
    }
   ],
   "source": [
    "df = df.sort_values(by='length', ascending=True)\n",
    "df.head()"
   ]
  },
  {
   "cell_type": "markdown",
   "id": "aba52e18",
   "metadata": {},
   "source": [
    "### Exportação apra tabela lua"
   ]
  },
  {
   "cell_type": "code",
   "execution_count": 12,
   "id": "85450790",
   "metadata": {},
   "outputs": [],
   "source": [
    "with open('words.lua', 'w') as lua_file:\n",
    "  lua_file.write('local words = {\\n')\n",
    "  for _, row in df.iterrows():\n",
    "    lua_file.write(f\"    {{word = '{row['palavra']}', length = {row['length']}}},\\n\")\n",
    "  lua_file.write('}\\n')\n",
    "  lua_file.write('return words\\n')"
   ]
  }
 ],
 "metadata": {
  "kernelspec": {
   "display_name": "Python 3",
   "language": "python",
   "name": "python3"
  },
  "language_info": {
   "codemirror_mode": {
    "name": "ipython",
    "version": 3
   },
   "file_extension": ".py",
   "mimetype": "text/x-python",
   "name": "python",
   "nbconvert_exporter": "python",
   "pygments_lexer": "ipython3",
   "version": "3.12.6"
  }
 },
 "nbformat": 4,
 "nbformat_minor": 5
}
